{
 "cells": [
  {
   "cell_type": "markdown",
   "metadata": {},
   "source": [
    "# Probability Theory and Random Variables\n",
    "Andrew Zhang(azhang42)"
   ]
  },
  {
   "cell_type": "markdown",
   "metadata": {},
   "source": [
    "# What is probablity theory?\n",
    "\n",
    "As many of us know, probability theory is math that deals with uncertain events/statmeents. For eample, it can deal with how likely it is that a dice will land on 6 or that a coin will land on heads. Random variables are often used in probability theory because they allow us a way to formalize this uncertainty. One important concept when it comes to probability and machine learning is distributions, which we also learn about in stat class. Here is the definition of continuous and discrete destributions:\n",
    "\n",
    "$$\\text{For Discrete RVs}: \\text{Probability Mass Function (PMF), } P(X = x)$$\n",
    "$$\\text{For Continuous RVs}: \\text{Probability Density Function (PDF), } f(x)$$\n",
    "\n",
    "## Bayes Theorem\n",
    "\n",
    "Another important concept in probability theory is Bayes Theorem. It is a way to calculate conditional probability. Here is the formula:\n",
    "\n",
    "$$P(A|B) = \\frac{P(A \\cap B)}{P(B)}$$\n",
    "\n",
    "It is used in some machine learning applications, such as Naive Bayes Classifiers. It is also used in Bayesian Statistics, which is a way to update our beliefs about a certain event as we get more data.\n",
    "\n",
    "## Naive Bayes\n",
    "\n",
    "Bayes Theorem can be rewritten as:\n",
    "\n",
    "$$P(A|B) = \\frac{P(B|A) \\times P(A)}{P(B)}$$\n",
    "\n",
    "Let's say you have some target class $C$ to predict. The aim is to get the class given the posterior probabilites $P(C|x_1, x_2, ..., x_n)$\n",
    "\n",
    "If we assume that these features are independent, we get the follwoing expression:\n",
    "\n",
    "$$P(C|x_1, x_2, ..., x_n) = \\frac{P(x_1|C) \\times P(x_2|C) \\times ... \\times P(x_n|C) \\times P(C)}{P(x_1) \\times P(x_2) \\times ... \\times P(x_n)}$$\n",
    "\n",
    "This can be simplified for classification to:\n",
    "\n",
    "$$P(C) \\times \\prod_{i=1}^{n} P(x_i|C)$$\n",
    "\n",
    "\n",
    "## Demonstration\n",
    "\n",
    "We will use census data from kaggle to predict whether a person makes more than 50k a year with Naive Bayes"
   ]
  },
  {
   "cell_type": "code",
   "execution_count": 1,
   "metadata": {},
   "outputs": [
    {
     "name": "stdout",
     "output_type": "stream",
     "text": [
      "Accuracy: 79.66%\n"
     ]
    },
    {
     "name": "stderr",
     "output_type": "stream",
     "text": [
      "/Users/andrewzhang/opt/anaconda3/envs/cs5864/lib/python3.11/site-packages/sklearn/utils/validation.py:767: FutureWarning: is_sparse is deprecated and will be removed in a future version. Check `isinstance(dtype, pd.SparseDtype)` instead.\n",
      "  if not hasattr(array, \"sparse\") and array.dtypes.apply(is_sparse).any():\n",
      "/Users/andrewzhang/opt/anaconda3/envs/cs5864/lib/python3.11/site-packages/sklearn/utils/validation.py:605: FutureWarning: is_sparse is deprecated and will be removed in a future version. Check `isinstance(dtype, pd.SparseDtype)` instead.\n",
      "  if is_sparse(pd_dtype):\n",
      "/Users/andrewzhang/opt/anaconda3/envs/cs5864/lib/python3.11/site-packages/sklearn/utils/validation.py:614: FutureWarning: is_sparse is deprecated and will be removed in a future version. Check `isinstance(dtype, pd.SparseDtype)` instead.\n",
      "  if is_sparse(pd_dtype) or not is_extension_array_dtype(pd_dtype):\n",
      "/Users/andrewzhang/opt/anaconda3/envs/cs5864/lib/python3.11/site-packages/sklearn/utils/validation.py:767: FutureWarning: is_sparse is deprecated and will be removed in a future version. Check `isinstance(dtype, pd.SparseDtype)` instead.\n",
      "  if not hasattr(array, \"sparse\") and array.dtypes.apply(is_sparse).any():\n",
      "/Users/andrewzhang/opt/anaconda3/envs/cs5864/lib/python3.11/site-packages/sklearn/utils/validation.py:605: FutureWarning: is_sparse is deprecated and will be removed in a future version. Check `isinstance(dtype, pd.SparseDtype)` instead.\n",
      "  if is_sparse(pd_dtype):\n",
      "/Users/andrewzhang/opt/anaconda3/envs/cs5864/lib/python3.11/site-packages/sklearn/utils/validation.py:614: FutureWarning: is_sparse is deprecated and will be removed in a future version. Check `isinstance(dtype, pd.SparseDtype)` instead.\n",
      "  if is_sparse(pd_dtype) or not is_extension_array_dtype(pd_dtype):\n"
     ]
    }
   ],
   "source": [
    "import pandas as pd\n",
    "from sklearn.model_selection import train_test_split\n",
    "from sklearn.naive_bayes import GaussianNB\n",
    "from sklearn.metrics import accuracy_score\n",
    "\n",
    "# Load the dataset\n",
    "file_path = './adult.csv'\n",
    "data = pd.read_csv(file_path)\n",
    "\n",
    "column_names = ['age', 'workclass', 'fnlwgt', 'education', 'education-num', 'marital-status', \n",
    "                'occupation', 'relationship', 'race', 'sex', 'capital-gain', 'capital-loss', \n",
    "                'hours-per-week', 'native-country', 'income']\n",
    "data.columns = column_names\n",
    "\n",
    "# Converting categorical columns to numerical using get_dummies\n",
    "categorical_columns = data.select_dtypes(include=['object']).columns\n",
    "data_encoded = pd.get_dummies(data, columns=categorical_columns)\n",
    "\n",
    "# Splitting the data into features and target variable\n",
    "X = data_encoded.drop(['income_ <=50K', 'income_ >50K'], axis=1)\n",
    "y = data_encoded['income_ >50K']  # Using 'income_ >50K' as the target variable\n",
    "\n",
    "# Splitting the dataset into training and testing sets\n",
    "X_train, X_test, y_train, y_test = train_test_split(X, y, test_size=0.3, random_state=42)\n",
    "\n",
    "# Initializing and training the Gaussian Naive Bayes classifier\n",
    "gnb = GaussianNB()\n",
    "gnb.fit(X_train, y_train)\n",
    "\n",
    "# Making predictions on the test set\n",
    "y_pred = gnb.predict(X_test)\n",
    "\n",
    "# Calculating the accuracy of the model\n",
    "accuracy = accuracy_score(y_test, y_pred)\n",
    "print(f'Accuracy: {accuracy * 100:.2f}%')\n"
   ]
  },
  {
   "cell_type": "code",
   "execution_count": null,
   "metadata": {},
   "outputs": [],
   "source": []
  }
 ],
 "metadata": {
  "kernelspec": {
   "display_name": "cs5864",
   "language": "python",
   "name": "python3"
  },
  "language_info": {
   "codemirror_mode": {
    "name": "ipython",
    "version": 3
   },
   "file_extension": ".py",
   "mimetype": "text/x-python",
   "name": "python",
   "nbconvert_exporter": "python",
   "pygments_lexer": "ipython3",
   "version": "3.11.5"
  }
 },
 "nbformat": 4,
 "nbformat_minor": 2
}
